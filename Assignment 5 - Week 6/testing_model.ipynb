{
 "cells": [
  {
   "cell_type": "code",
   "execution_count": 32,
   "metadata": {},
   "outputs": [
    {
     "name": "stdout",
     "output_type": "stream",
     "text": [
      "Model loaded successfully!\n"
     ]
    }
   ],
   "source": [
    "import joblib\n",
    "import pandas as pd\n",
    "import numpy as np\n",
    "from sqlalchemy import create_engine, text\n",
    "\n",
    "\n",
    "# Load the saved model\n",
    "rf_model = joblib.load(\"random_forest_model.pkl\")\n",
    "print(\"Model loaded successfully!\")"
   ]
  },
  {
   "cell_type": "markdown",
   "metadata": {},
   "source": [
    "I imported the saved model, and lets import calidation dataset as well."
   ]
  },
  {
   "cell_type": "code",
   "execution_count": 20,
   "metadata": {},
   "outputs": [],
   "source": [
    "val_data = pd.read_csv(\"validation_set.csv\")\n",
    "\n",
    "# Separate features and target variable\n",
    "X_val = val_data.drop(columns=['target'])  # Assuming 'target' is the name of your dependent variable\n",
    "y_val = val_data['target']"
   ]
  },
  {
   "cell_type": "code",
   "execution_count": 22,
   "metadata": {},
   "outputs": [
    {
     "name": "stdout",
     "output_type": "stream",
     "text": [
      "Validation Accuracy: 0.8889\n"
     ]
    },
    {
     "name": "stderr",
     "output_type": "stream",
     "text": [
      "c:\\Users\\Sanjeeb\\AppData\\Local\\Programs\\Python\\Python311\\Lib\\site-packages\\sklearn\\base.py:486: UserWarning: X has feature names, but RandomForestClassifier was fitted without feature names\n",
      "  warnings.warn(\n"
     ]
    }
   ],
   "source": [
    "y_val_pred = rf_model.predict(X_val)\n",
    "\n",
    "# Print validation accuracy\n",
    "from sklearn.metrics import accuracy_score  \n",
    "\n",
    "val_accuracy = accuracy_score(y_val, y_val_pred)\n",
    "print(f\"Validation Accuracy: {val_accuracy:.4f}\")"
   ]
  },
  {
   "cell_type": "markdown",
   "metadata": {},
   "source": [
    "ALthough, the testing accuracy was around 77.76% but the validation accuracy is 88.89%. "
   ]
  },
  {
   "cell_type": "markdown",
   "metadata": {},
   "source": [
    "Now, Lets saved the predicted data in database in analytics schema."
   ]
  },
  {
   "cell_type": "code",
   "execution_count": 27,
   "metadata": {},
   "outputs": [],
   "source": [
    "val_data['predicted_target'] = y_val_pred"
   ]
  },
  {
   "cell_type": "code",
   "execution_count": 25,
   "metadata": {},
   "outputs": [],
   "source": [
    "host = r'127.0.0.1' \n",
    "db = r'MSDS610' \n",
    "user = r'postgres' \n",
    "pw = r'1234' \n",
    "port = r'5433' \n",
    "schema = r'analytics'"
   ]
  },
  {
   "cell_type": "code",
   "execution_count": 26,
   "metadata": {},
   "outputs": [],
   "source": [
    "db_conn = create_engine(\"postgresql://{}:{}@{}:{}/{}\".format(user, pw, host, port, db))"
   ]
  },
  {
   "cell_type": "code",
   "execution_count": 29,
   "metadata": {},
   "outputs": [],
   "source": [
    "with db_conn.connect() as connection:\n",
    "    val_data.to_sql('validation_predictions', con=connection, schema='analytics', if_exists='replace', index=False)"
   ]
  },
  {
   "cell_type": "code",
   "execution_count": 31,
   "metadata": {},
   "outputs": [
    {
     "name": "stdout",
     "output_type": "stream",
     "text": [
      "   heart_rate_reserve       age   thalach  stress_impact  bp_chol_ratio   \n",
      "0           -0.448281 -2.050205  1.111327       0.363597       0.196626  \\\n",
      "1           -0.766999  0.275576  0.649594       0.367810      -0.694744   \n",
      "2            0.428194  0.624443 -0.620170      -0.394743       0.865153   \n",
      "3           -2.002032  1.671044  1.380671       0.245633       0.419468   \n",
      "4            0.268835  0.508154 -0.427782       0.001662      -0.249059   \n",
      "\n",
      "   trestbps   oldpeak  slope_oldpeak_product  target  predicted_target  \n",
      "0  0.196626 -0.686558              -0.624070       2                 2  \n",
      "1 -0.694744 -0.185423              -0.367864       1                 1  \n",
      "2  0.865153 -0.686558              -0.624070       1                 3  \n",
      "3  0.419468  1.317981               1.425580       3                 3  \n",
      "4 -0.249059 -0.586331              -0.572829       3                 3  \n"
     ]
    }
   ],
   "source": [
    "schema = \"analytics\"  \n",
    "table_name = \"validation_predictions\"  \n",
    "\n",
    "sql = f'SELECT * FROM \"{schema}\".\"{table_name}\"'\n",
    "\n",
    "data = pd.read_sql(sql, db_conn, index_col=None)\n",
    "print(data.head())  "
   ]
  },
  {
   "cell_type": "markdown",
   "metadata": {},
   "source": [
    "# Summary\n",
    "After experimenting with different parameters, hyperparameter tuning, and trying multiple models, including XGBClassifier, the highest test accuracy achieved was 77.76%. Based on the results, I finalized a model using 8 important features and split the dataset into 70% training, 15% testing, and 15% validation. The trained model and validation set were saved, and in a new notebook, the model was tested on the validation set, achieving a validation accuracy of 88.89%. After that the predicted data was stored in analytics schema of database.\n",
    "\n",
    "# Analysis\n",
    "Yes, the severity of heart disease can be predicted using patient attributes with models like Random Forest and XGBoost, leveraging key features such as age, blood pressure, cholesterol, and heart rate. Among physiological factors, age contributes the most to heart disease risk, followed by blood pressure, as aging leads to arterial stiffness and increased cardiovascular strain, while high blood pressure adds stress to the heart and vessels. Other important factors include cholesterol levels, stress impact, and heart rate reserve, all playing a role in assessing heart disease severity."
   ]
  },
  {
   "cell_type": "markdown",
   "metadata": {},
   "source": []
  }
 ],
 "metadata": {
  "kernelspec": {
   "display_name": "Python 3",
   "language": "python",
   "name": "python3"
  },
  "language_info": {
   "codemirror_mode": {
    "name": "ipython",
    "version": 3
   },
   "file_extension": ".py",
   "mimetype": "text/x-python",
   "name": "python",
   "nbconvert_exporter": "python",
   "pygments_lexer": "ipython3",
   "version": "3.11.0"
  }
 },
 "nbformat": 4,
 "nbformat_minor": 2
}
