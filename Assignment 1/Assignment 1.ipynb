{
 "cells": [
  {
   "cell_type": "code",
   "execution_count": 1,
   "id": "3e6d8845",
   "metadata": {},
   "outputs": [],
   "source": [
    "import seaborn as sns\n",
    "import pandas as pd"
   ]
  },
  {
   "cell_type": "code",
   "execution_count": 2,
   "id": "fa3d09b2",
   "metadata": {},
   "outputs": [
    {
     "name": "stdout",
     "output_type": "stream",
     "text": [
      "Collecting psycopg2\n",
      "  Downloading psycopg2-2.9.10-cp311-cp311-win_amd64.whl.metadata (5.0 kB)\n",
      "Downloading psycopg2-2.9.10-cp311-cp311-win_amd64.whl (1.2 MB)\n",
      "   ---------------------------------------- 0.0/1.2 MB ? eta -:--:--\n",
      "   --------- ------------------------------ 0.3/1.2 MB ? eta -:--:--\n",
      "   ------------------ --------------------- 0.5/1.2 MB 2.1 MB/s eta 0:00:01\n",
      "   ---------------------------------------- 1.2/1.2 MB 2.1 MB/s eta 0:00:00\n",
      "Installing collected packages: psycopg2\n",
      "Successfully installed psycopg2-2.9.10\n"
     ]
    },
    {
     "name": "stderr",
     "output_type": "stream",
     "text": [
      "\n",
      "[notice] A new release of pip is available: 24.2 -> 25.0\n",
      "[notice] To update, run: python.exe -m pip install --upgrade pip\n"
     ]
    }
   ],
   "source": [
    "!pip install psycopg2"
   ]
  },
  {
   "cell_type": "markdown",
   "id": "60ad3489",
   "metadata": {},
   "source": [
    "# Dataset Column Information\n",
    "\n",
    "| Field Name | Description                                                        | Data Type    |\n",
    "|------------|--------------------------------------------------------------------|--------------|\n",
    "| age        | Age of the patient                                                 | Integer      |\n",
    "| sex        | Gender of the patient (1 = male; 0 = female)                       | Categorical  |\n",
    "| cp         | Chest pain type (e.g., typical angina, atypical angina, etc.)      | Categorical  |\n",
    "| trestbps   | Resting blood pressure (in mm Hg)                                  | Integer      |\n",
    "| chol       | Serum cholesterol in mg/dl                                         | Integer      |\n",
    "| fbs        | Fasting blood sugar > 120 mg/dl (1 = true; 0 = false)              | Categorical  |\n",
    "| restecg    | Resting electrocardiographic results                               | Categorical  |\n",
    "| thalach    | Maximum heart rate achieved                                        | Integer      |\n",
    "| exang      | Exercise-induced angina (1 = yes; 0 = no)                          | Categorical  |\n",
    "| oldpeak    | ST depression induced by exercise relative to rest                 | Integer      |\n",
    "| slope      | Slope of the peak exercise ST segment                              | Categorical  |\n",
    "| ca         | Number of major vessels (0-3) colored by fluoroscopy               | Integer      |\n",
    "| thal       | Thalassemia (e.g., normal, fixed defect, reversible defect)        | Categorical  |\n",
    "| num        | Diagnosis of heart disease (0 = no disease; 1+ = presence of HD)   | Integer      |\n"
   ]
  },
  {
   "cell_type": "markdown",
   "id": "23b0c064",
   "metadata": {},
   "source": [
    "The machine learning solution for this dataset aims to predict the presence of heart disease using key patient attributes like age, cholesterol levels, and exercise-induced responses. This model can assist healthcare professionals in making early and accurate diagnoses, reducing the need for costly diagnostic procedures, and enabling targeted patient care. By identifying high-risk individuals, the solution supports efficient resource allocation and improves patient outcomes."
   ]
  },
  {
   "cell_type": "code",
   "execution_count": 3,
   "id": "7efd7e2d",
   "metadata": {},
   "outputs": [
    {
     "name": "stdout",
     "output_type": "stream",
     "text": [
      "Collecting sqlalchemyNote: you may need to restart the kernel to use updated packages.\n",
      "\n",
      "  Downloading SQLAlchemy-2.0.37-cp311-cp311-win_amd64.whl.metadata (9.9 kB)\n",
      "Collecting greenlet!=0.4.17 (from sqlalchemy)\n",
      "  Downloading greenlet-3.1.1-cp311-cp311-win_amd64.whl.metadata (3.9 kB)\n",
      "Requirement already satisfied: typing-extensions>=4.6.0 in c:\\users\\sanjeeb\\appdata\\local\\programs\\python\\python311\\lib\\site-packages (from sqlalchemy) (4.12.2)\n",
      "Downloading SQLAlchemy-2.0.37-cp311-cp311-win_amd64.whl (2.1 MB)\n",
      "   ---------------------------------------- 0.0/2.1 MB ? eta -:--:--\n",
      "   -------------- ------------------------- 0.8/2.1 MB 6.7 MB/s eta 0:00:01\n",
      "   ---------------------------------- ----- 1.8/2.1 MB 5.9 MB/s eta 0:00:01\n",
      "   ---------------------------------------- 2.1/2.1 MB 5.3 MB/s eta 0:00:00\n",
      "Downloading greenlet-3.1.1-cp311-cp311-win_amd64.whl (298 kB)\n",
      "Installing collected packages: greenlet, sqlalchemy\n",
      "Successfully installed greenlet-3.1.1 sqlalchemy-2.0.37\n"
     ]
    },
    {
     "name": "stderr",
     "output_type": "stream",
     "text": [
      "\n",
      "[notice] A new release of pip is available: 24.2 -> 25.0\n",
      "[notice] To update, run: python.exe -m pip install --upgrade pip\n"
     ]
    }
   ],
   "source": [
    "pip install sqlalchemy"
   ]
  },
  {
   "cell_type": "code",
   "execution_count": 17,
   "id": "d97e12ea",
   "metadata": {},
   "outputs": [],
   "source": [
    "from sqlalchemy import create_engine, text"
   ]
  },
  {
   "cell_type": "code",
   "execution_count": 12,
   "id": "fb17be0f",
   "metadata": {},
   "outputs": [],
   "source": [
    "host = r'127.0.0.1' # denotes that the db in a local installation\n",
    "db = r'MSDS610' # db we just created\n",
    "user = r'postgres' # using the postgres user for this demo\n",
    "pw = r'1234' # this is the password established during installation\n",
    "port = r'5433' # default port estabalished during install\n",
    "schema = r'raw' # schema we just created"
   ]
  },
  {
   "cell_type": "code",
   "execution_count": 13,
   "id": "cd0defae",
   "metadata": {},
   "outputs": [],
   "source": [
    "db_conn = create_engine(\"postgresql://{}:{}@{}:{}/{}\".format(user, pw, host, port, db))"
   ]
  },
  {
   "cell_type": "code",
   "execution_count": 18,
   "id": "60a6ced6",
   "metadata": {},
   "outputs": [
    {
     "name": "stdout",
     "output_type": "stream",
     "text": [
      "Table created successfully!\n"
     ]
    }
   ],
   "source": [
    "# Define table schema and create the table in the raw schema\n",
    "create_table_query = \"\"\"\n",
    "CREATE SCHEMA IF NOT EXISTS raw;\n",
    "\n",
    "CREATE TABLE IF NOT EXISTS raw.HeartDisease (\n",
    "    age INTEGER,\n",
    "    sex VARCHAR(10),\n",
    "    cp VARCHAR(50),\n",
    "    trestbps INTEGER,\n",
    "    chol INTEGER,\n",
    "    fbs BOOLEAN,\n",
    "    restecg VARCHAR(50),\n",
    "    thalach INTEGER,\n",
    "    exang BOOLEAN,\n",
    "    oldpeak NUMERIC,\n",
    "    slope VARCHAR(50),\n",
    "    ca INTEGER,\n",
    "    thal VARCHAR(50),\n",
    "    num INTEGER\n",
    ");\n",
    "\"\"\"\n",
    "\n",
    "# Execute the SQL query\n",
    "with db_conn.connect() as connection:\n",
    "    connection.execute(text(create_table_query))\n",
    "    print(\"Table created successfully!\")\n"
   ]
  },
  {
   "cell_type": "markdown",
   "id": "8b0a1a87",
   "metadata": {},
   "source": [
    "# Loading csv file to database"
   ]
  },
  {
   "cell_type": "code",
   "execution_count": 26,
   "id": "52c90e64",
   "metadata": {},
   "outputs": [
    {
     "name": "stdout",
     "output_type": "stream",
     "text": [
      "CSV data imported successfully!\n"
     ]
    }
   ],
   "source": [
    "# importing csv file\n",
    "csv_file_path = \"final_dataset.csv\"  \n",
    "\n",
    "df = pd.read_csv(csv_file_path)\n",
    "df.to_sql(\n",
    "    name=\"HeartDisease\",      \n",
    "    con=db_conn,                  \n",
    "    schema=\"raw\",                \n",
    "    if_exists=\"append\",          \n",
    "    index=False                 \n",
    ")\n",
    "\n",
    "print(\"CSV data imported successfully!\")\n"
   ]
  },
  {
   "cell_type": "markdown",
   "id": "b28d6481",
   "metadata": {},
   "source": [
    "# Retriving Data from table"
   ]
  },
  {
   "cell_type": "code",
   "execution_count": 25,
   "id": "3ab787d0",
   "metadata": {},
   "outputs": [
    {
     "name": "stdout",
     "output_type": "stream",
     "text": [
      "   age  sex  cp trestbps  chol fbs restecg thalach exang oldpeak slope ca   \n",
      "0   32    1   1       95     0   ?       0     127     0      .7     1  ?  \\\n",
      "1   34    1   4      115     0   ?       ?     154     0      .2     1  ?   \n",
      "2   35    1   4        ?     0   ?       0     130     1       ?     ?  ?   \n",
      "3   36    1   4      110     0   ?       0     125     1       1     2  ?   \n",
      "4   38    0   4      105     0   ?       0     166     0     2.8     1  ?   \n",
      "\n",
      "  thal  num  \n",
      "0    ?    1  \n",
      "1    ?    1  \n",
      "2    7    3  \n",
      "3    6    1  \n",
      "4    ?    2  \n"
     ]
    }
   ],
   "source": [
    "schema = \"raw\"  \n",
    "table_name = \"HeartDisease\"  \n",
    "\n",
    "sql = f'SELECT * FROM \"{schema}\".\"{table_name}\"'\n",
    "\n",
    "data_check = pd.read_sql(sql, db_conn, index_col=None)\n",
    "print(data_check.head())  "
   ]
  },
  {
   "cell_type": "code",
   "execution_count": null,
   "id": "755d4ea6",
   "metadata": {},
   "outputs": [],
   "source": []
  }
 ],
 "metadata": {
  "kernelspec": {
   "display_name": "Python 3",
   "language": "python",
   "name": "python3"
  },
  "language_info": {
   "codemirror_mode": {
    "name": "ipython",
    "version": 3
   },
   "file_extension": ".py",
   "mimetype": "text/x-python",
   "name": "python",
   "nbconvert_exporter": "python",
   "pygments_lexer": "ipython3",
   "version": "3.11.0"
  }
 },
 "nbformat": 4,
 "nbformat_minor": 5
}
